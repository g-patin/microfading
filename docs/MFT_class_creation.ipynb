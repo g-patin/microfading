{
 "cells": [
  {
   "cell_type": "code",
   "execution_count": 1,
   "id": "3c350284-acf3-4909-937c-eb7c10d5dd40",
   "metadata": {},
   "outputs": [],
   "source": [
    "import microfading as mf"
   ]
  },
  {
   "cell_type": "code",
   "execution_count": 3,
   "id": "4ba967a6-9c4e-4d56-b313-6f019db637a6",
   "metadata": {},
   "outputs": [
    {
     "data": {
      "text/plain": [
       "Microfading data class - Number of files = 5"
      ]
     },
     "execution_count": 3,
     "metadata": {},
     "output_type": "execute_result"
    }
   ],
   "source": [
    "files = mf.get_datasets() # replace it with your own data files\n",
    "mf_data = mf.MFT(files=files)\n",
    "\n",
    "mf_data"
   ]
  }
 ],
 "metadata": {
  "kernelspec": {
   "display_name": "Python 3 (ipykernel)",
   "language": "python",
   "name": "python3"
  },
  "language_info": {
   "codemirror_mode": {
    "name": "ipython",
    "version": 3
   },
   "file_extension": ".py",
   "mimetype": "text/x-python",
   "name": "python",
   "nbconvert_exporter": "python",
   "pygments_lexer": "ipython3",
   "version": "3.11.5"
  }
 },
 "nbformat": 4,
 "nbformat_minor": 5
}
