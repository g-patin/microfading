{
 "cells": [
  {
   "cell_type": "code",
   "execution_count": 1,
   "id": "d942d291-0442-45be-aa8c-593baa6e178c",
   "metadata": {},
   "outputs": [],
   "source": [
    "import microfading as mf"
   ]
  },
  {
   "cell_type": "code",
   "execution_count": null,
   "id": "5370a405-e816-47be-b1b3-43b625031dc2",
   "metadata": {},
   "outputs": [],
   "source": []
  },
  {
   "cell_type": "code",
   "execution_count": 8,
   "id": "3272d2ef-d216-4c22-81a8-480e2daa77ca",
   "metadata": {},
   "outputs": [
    {
     "data": {
      "text/plain": [
       "[PosixPath('/home/gpatin/Documents/test/venv/lib/python3.11/site-packages/microfading/datasets/2024-144_MF.BWS0026.04_G02_BW3_model_2024-08-02_MFT1.xlsx'),\n",
       " PosixPath('/home/gpatin/Documents/test/venv/lib/python3.11/site-packages/microfading/datasets/2024-144_MF.BWS0025.04_G02_BW2_model_2024-08-02_MFT1.xlsx'),\n",
       " PosixPath('/home/gpatin/Documents/test/venv/lib/python3.11/site-packages/microfading/datasets/2024-144_MF.BWS0024.04_G02_BW1_model_2024-08-02_MFT1.xlsx'),\n",
       " PosixPath('/home/gpatin/Documents/test/venv/lib/python3.11/site-packages/microfading/datasets/2024-144_MF.yellowwood.01_G01_yellow_model_2024-08-01_MFT1.xlsx'),\n",
       " PosixPath('/home/gpatin/Documents/test/venv/lib/python3.11/site-packages/microfading/datasets/2024-144_MF.vermillon.01_G01_red_model_2024-07-31_MFT1.xlsx')]"
      ]
     },
     "execution_count": 8,
     "metadata": {},
     "output_type": "execute_result"
    }
   ],
   "source": [
    "# by default rawfiles=False, BWS=True, stdev=False\n",
    "ds = mf.get_datasets()\n",
    "ds"
   ]
  },
  {
   "cell_type": "markdown",
   "id": "544fe836-1cf6-4c21-a10b-1593a6fd53c8",
   "metadata": {},
   "source": [
    "<hr style=\"border:20px solid blue\">"
   ]
  },
  {
   "cell_type": "code",
   "execution_count": 9,
   "id": "7458f883-0d08-4fe3-8e0f-9c37ddec7add",
   "metadata": {},
   "outputs": [
    {
     "data": {
      "text/plain": [
       "[PosixPath('/home/gpatin/Documents/test/venv/lib/python3.11/site-packages/microfading/datasets/2024-8200 P-001 G01 uncleaned_01-spect_convert.txt'),\n",
       " PosixPath('/home/gpatin/Documents/test/venv/lib/python3.11/site-packages/microfading/datasets/2024-8200 P-001 G01 uncleaned_01-spect.txt'),\n",
       " PosixPath('/home/gpatin/Documents/test/venv/lib/python3.11/site-packages/microfading/datasets/2024-8200 P-001 G01 uncleaned_01.txt'),\n",
       " PosixPath('/home/gpatin/Documents/test/venv/lib/python3.11/site-packages/microfading/datasets/2024-8200 P-001 G01 uncleaned_01.rfc'),\n",
       " PosixPath('/home/gpatin/Documents/test/venv/lib/python3.11/site-packages/microfading/datasets/2024-144 BWS0024 G01 BW1_01-spect_convert.txt'),\n",
       " PosixPath('/home/gpatin/Documents/test/venv/lib/python3.11/site-packages/microfading/datasets/2024-144 BWS0024 G01 BW1_01-spect.txt'),\n",
       " PosixPath('/home/gpatin/Documents/test/venv/lib/python3.11/site-packages/microfading/datasets/2024-144 BWS0024 G01 BW1_01.txt'),\n",
       " PosixPath('/home/gpatin/Documents/test/venv/lib/python3.11/site-packages/microfading/datasets/2024-144 BWS0024 G01 BW1_01.rfc')]"
      ]
     },
     "execution_count": 9,
     "metadata": {},
     "output_type": "execute_result"
    }
   ],
   "source": [
    "# retrieve all the rawfiles\n",
    "ds = mf.get_datasets(rawfiles=True)\n",
    "ds"
   ]
  },
  {
   "cell_type": "markdown",
   "id": "31c65e7e-67bf-424a-abb2-bfdc9d4376f3",
   "metadata": {},
   "source": [
    "<hr style=\"border:2px solid blue\">"
   ]
  },
  {
   "cell_type": "markdown",
   "id": "e75a2608-6957-4c36-8117-e51567502188",
   "metadata": {},
   "source": [
    "<hr style=\"border: 2px solid black; width: 80%;\">"
   ]
  },
  {
   "cell_type": "code",
   "execution_count": 10,
   "id": "d8f7fc77-2964-4d67-a2c0-8b5625558345",
   "metadata": {},
   "outputs": [
    {
     "data": {
      "text/plain": [
       "[PosixPath('/home/gpatin/Documents/test/venv/lib/python3.11/site-packages/microfading/datasets/2024-8200 P-001 G01 uncleaned_01-spect_convert.txt'),\n",
       " PosixPath('/home/gpatin/Documents/test/venv/lib/python3.11/site-packages/microfading/datasets/2024-8200 P-001 G01 uncleaned_01-spect.txt'),\n",
       " PosixPath('/home/gpatin/Documents/test/venv/lib/python3.11/site-packages/microfading/datasets/2024-8200 P-001 G01 uncleaned_01.txt'),\n",
       " PosixPath('/home/gpatin/Documents/test/venv/lib/python3.11/site-packages/microfading/datasets/2024-8200 P-001 G01 uncleaned_01.rfc')]"
      ]
     },
     "execution_count": 10,
     "metadata": {},
     "output_type": "execute_result"
    }
   ],
   "source": [
    "# excluded the rawfiles performed on blue wool samples\n",
    "ds = mf.get_datasets(rawfiles=True, BWS=False)\n",
    "ds"
   ]
  },
  {
   "cell_type": "markdown",
   "id": "3433a069-c73c-4b04-844f-e58aa427eb5e",
   "metadata": {},
   "source": [
    "---"
   ]
  },
  {
   "cell_type": "code",
   "execution_count": 11,
   "id": "670cd97d-69f7-4cab-9282-55015f0069ec",
   "metadata": {},
   "outputs": [
    {
     "data": {
      "text/plain": [
       "[PosixPath('/home/gpatin/Documents/test/venv/lib/python3.11/site-packages/microfading/datasets/2024-144_MF.dayflower4.G01_avg_0h_model_2024-07-30_MFT2.xlsx'),\n",
       " PosixPath('/home/gpatin/Documents/test/venv/lib/python3.11/site-packages/microfading/datasets/2024-144_MF.indigo3.G01_avg_0h_model_2024-08-02_MFT2.xlsx')]"
      ]
     },
     "execution_count": 11,
     "metadata": {},
     "output_type": "execute_result"
    }
   ],
   "source": [
    "# retrieved the interim files with standard devivation values\n",
    "ds = mf.get_datasets(rawfiles=False, BWS=False, stdev=True)\n",
    "ds"
   ]
  }
 ],
 "metadata": {
  "kernelspec": {
   "display_name": "Python 3 (ipykernel)",
   "language": "python",
   "name": "python3"
  },
  "language_info": {
   "codemirror_mode": {
    "name": "ipython",
    "version": 3
   },
   "file_extension": ".py",
   "mimetype": "text/x-python",
   "name": "python",
   "nbconvert_exporter": "python",
   "pygments_lexer": "ipython3",
   "version": "3.11.5"
  }
 },
 "nbformat": 4,
 "nbformat_minor": 5
}
